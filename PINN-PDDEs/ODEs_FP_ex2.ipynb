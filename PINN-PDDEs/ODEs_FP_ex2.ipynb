{
 "cells": [
  {
   "cell_type": "markdown",
   "id": "6b15c863-cb8c-4f00-8ec0-5a4439665580",
   "metadata": {},
   "source": [
    "# Import"
   ]
  },
  {
   "cell_type": "code",
   "execution_count": 4,
   "id": "179a1b0e-a2ca-4f7f-9baf-fcc9562610f5",
   "metadata": {
    "execution": {
     "iopub.execute_input": "2025-08-05T13:06:58.833307Z",
     "iopub.status.busy": "2025-08-05T13:06:58.832829Z",
     "iopub.status.idle": "2025-08-05T13:06:58.839428Z",
     "shell.execute_reply": "2025-08-05T13:06:58.838801Z",
     "shell.execute_reply.started": "2025-08-05T13:06:58.833276Z"
    },
    "scrolled": true,
    "tags": []
   },
   "outputs": [],
   "source": [
    "import sys\n",
    "sys.path.append('/home/aistudio/external-libraries')\n",
    "\n",
    "import jax\n",
    "import jax.numpy as jnp\n",
    "import jax.random as random\n",
    "import optax\n",
    "import jaxopt\n",
    "import numpy as np\n",
    "\n",
    "jax.config.update(\"jax_enable_x64\", True)\n",
    "\n",
    "import matplotlib.pyplot as plt\n",
    "from matplotlib import font_manager\n",
    "import matplotlib.ticker as ticker\n",
    "from scipy.stats import qmc\n",
    "import time\n",
    "import pandas as pd\n",
    "import process_log\n",
    "import os\n",
    "import shutil\n",
    "from ddeint import ddeint\n",
    "\n",
    "\n",
    "font_path = '/home/aistudio/external-libraries/Times_New_Roman.ttf'\n",
    "path = '/home/aistudio/PINN-PDDEs/PD-ODEs'\n",
    "prop = font_manager.FontProperties(fname=font_path)\n",
    "\n",
    "picture_path = os.path.join(path, 'ODEs_FP_ex2_picture_result')\n",
    "os.makedirs(picture_path, exist_ok=True)\n",
    "result_path = os.path.join(path, 'ODEs_FP_ex2_result')\n",
    "os.makedirs(result_path, exist_ok=True)\n",
    "\n",
    "log_path = os.path.join(result_path, 'log')\n",
    "os.makedirs(log_path, exist_ok=True)"
   ]
  },
  {
   "cell_type": "markdown",
   "id": "3de787c1-7081-4c2d-afe7-d172b7a0982f",
   "metadata": {},
   "source": [
    "# Configuration"
   ]
  },
  {
   "cell_type": "code",
   "execution_count": 5,
   "id": "c1cfa76e-1871-4fc0-9934-ed591784072f",
   "metadata": {
    "execution": {
     "iopub.execute_input": "2025-08-05T13:06:58.841032Z",
     "iopub.status.busy": "2025-08-05T13:06:58.840552Z",
     "iopub.status.idle": "2025-08-05T13:06:58.845550Z",
     "shell.execute_reply": "2025-08-05T13:06:58.844925Z",
     "shell.execute_reply.started": "2025-08-05T13:06:58.841009Z"
    },
    "scrolled": true,
    "tags": []
   },
   "outputs": [],
   "source": [
    "# config = {\n",
    "#     \"q1\": 0.7,\n",
    "#     \"q2\": 0.5,\n",
    "#     \"alpha\": 0.2,\n",
    "#     \"beta\": 0.4,\n",
    "#     \"gama\": 0.1,\n",
    "#     \"tmin\": 0.,\n",
    "#     \"tmax\": 5.,\n",
    "#     \"initial_key\": 0,\n",
    "#     \"netLayers\": [[1, 20, 20, 1], [1, 20, 20, 1], [1, 20, 20, 1]],\n",
    "#     \"activation_function\": 1,\n",
    "#     \"N_f\": 5000,\n",
    "#     \"step_epochs\": [5001, 10001],\n",
    "# #    \"step_epochs\": [2, 4],\n",
    "#     \"initial_key\": 0,\n",
    "#     \"log_path\": os.path.join(log_path,f\"log.txt\"),\n",
    "#     \"picture_path\": picture_path\n",
    "# }\n",
    "# results = []"
   ]
  },
  {
   "cell_type": "markdown",
   "id": "2aa0ad8a-2672-430d-9674-862695dda1ec",
   "metadata": {},
   "source": [
    "# Definition of the equation and its exact solution\n",
    "We test the following proportional delay model equation for epidemic spread:\n",
    "$$\n",
    "\\begin{cases} \n",
    "\\frac{dS}{dt} = -\\beta S(t)I(q_1t) + \\gamma S(q_1t)\\\\ \n",
    "\\frac{dI}{dt} = \\beta S(t)I(q_1t) - \\alpha I(q_2t)\\\\ \n",
    "\\frac{dR}{dt} = \\alpha  I(q_2t) - \\gamma R(q_1t)\n",
    "\\end{cases}\n",
    "$$\n",
    "Its initial conditions are:\n",
    "$$\n",
    "\\begin{cases} \n",
    "S(0) = 5\\\\\n",
    "I(0) = 2\\\\\n",
    "R(0) = 0\n",
    "\\end{cases}\n",
    "$$"
   ]
  },
  {
   "cell_type": "code",
   "execution_count": 6,
   "id": "2413cebc-cf23-46e1-85be-78e09840f4ba",
   "metadata": {
    "execution": {
     "iopub.execute_input": "2025-08-05T13:06:58.846657Z",
     "iopub.status.busy": "2025-08-05T13:06:58.846236Z",
     "iopub.status.idle": "2025-08-05T13:06:58.851943Z",
     "shell.execute_reply": "2025-08-05T13:06:58.851376Z",
     "shell.execute_reply.started": "2025-08-05T13:06:58.846635Z"
    },
    "scrolled": true,
    "tags": []
   },
   "outputs": [],
   "source": [
    "for key, value in config.items():\n",
    "    globals()[key] = value\n",
    "\n",
    "def PDDE1(t, u1, u2, u3):\n",
    "    u1_t = lambda t: jax.grad(lambda t: jnp.sum(u1(t)))(t)\n",
    "    return u1_t(t) - (-beta * u1(t) * u2(q1 * t) + gama * u3(q1 * t))\n",
    "\n",
    "def PDDE2(t, u1, u2, u3):\n",
    "    u2_t = lambda t: jax.grad(lambda t: jnp.sum(u2(t)))(t)\n",
    "    return u2_t(t) - (beta * u1(t) * u2(q1 * t) - alpha * u2(q2 * t))\n",
    "\n",
    "def PDDE3(t, u1, u2, u3):\n",
    "    u3_t = lambda t: jax.grad(lambda t: jnp.sum(u3(t)))(t)\n",
    "    return u3_t(t) - (alpha * u2(q2 * t) - gama * u3(q1 * t))\n",
    "\n",
    "def u_bound1(t_min):\n",
    "    return 5 \n",
    "\n",
    "def u_bound2(t_min):\n",
    "    return 2 \n",
    "\n",
    "def u_bound3(t_min):\n",
    "    return 0 "
   ]
  },
  {
   "cell_type": "markdown",
   "id": "c0a732cc-945b-47ea-934f-0d4cad9f9079",
   "metadata": {},
   "source": [
    "# Definition of the loss functions"
   ]
  },
  {
   "cell_type": "code",
   "execution_count": 7,
   "id": "1d5c07d1-fef6-4926-807f-73ab2caa68ee",
   "metadata": {
    "execution": {
     "iopub.execute_input": "2025-08-05T13:06:58.853022Z",
     "iopub.status.busy": "2025-08-05T13:06:58.852623Z",
     "iopub.status.idle": "2025-08-05T13:06:58.860369Z",
     "shell.execute_reply": "2025-08-05T13:06:58.859817Z",
     "shell.execute_reply.started": "2025-08-05T13:06:58.853000Z"
    },
    "scrolled": true,
    "tags": []
   },
   "outputs": [],
   "source": [
    "def loss_fun1(params, inPoints):\n",
    "    t_c = inPoints[:,[0]]\n",
    "    ufunc1 = lambda t: DNNs(params[0], t)\n",
    "    ufunc2 = lambda t: DNNs(params[1], t)\n",
    "    ufunc3 = lambda t: DNNs(params[2], t)\n",
    "\n",
    "    # Calculate the PDE residual\n",
    "    loss_f1 = jnp.mean(PDDE1(t_c, ufunc1, ufunc2, ufunc3)**2)\n",
    "    loss_f2 = jnp.mean(PDDE2(t_c, ufunc1, ufunc2, ufunc3)**2)\n",
    "    loss_f3 = jnp.mean(PDDE3(t_c, ufunc1, ufunc2, ufunc3)**2)\n",
    "    loss_i1 = jnp.mean((ufunc1(tmin) - u_bound1(tmin))**2)\n",
    "    loss_i2 = jnp.mean((ufunc2(tmin) - u_bound2(tmin))**2)\n",
    "    loss_i3 = jnp.mean((ufunc3(tmin) - u_bound3(tmin))**2)\n",
    "\n",
    "    all_losses = jnp.array([loss_f1, loss_f2, loss_f3, loss_i1, loss_i2, loss_i3])\n",
    "    total_loss = jnp.sum(all_losses)\n",
    "    weights = all_losses / total_loss\n",
    "    loss_weighted = jnp.sum(all_losses * weights)\n",
    "    return loss_weighted, all_losses\n",
    "\n",
    "def loss_fun2(params, inPoints, initial_weights):\n",
    "    t_c = inPoints[:,[0]]\n",
    "    ufunc1 = lambda t: DNNs(params[0], t)\n",
    "    ufunc2 = lambda t: DNNs(params[1], t)\n",
    "    ufunc3 = lambda t: DNNs(params[2], t)\n",
    "\n",
    "    # Calculate the PDE residual\n",
    "    loss_f1 = jnp.mean(PDDE1(t_c, ufunc1, ufunc2, ufunc3)**2)\n",
    "    loss_f2 = jnp.mean(PDDE2(t_c, ufunc1, ufunc2, ufunc3)**2)\n",
    "    loss_f3 = jnp.mean(PDDE3(t_c, ufunc1, ufunc2, ufunc3)**2)\n",
    "    loss_i1 = jnp.mean((ufunc1(tmin) - u_bound1(tmin))**2)\n",
    "    loss_i2 = jnp.mean((ufunc2(tmin) - u_bound2(tmin))**2)\n",
    "    loss_i3 = jnp.mean((ufunc3(tmin) - u_bound3(tmin))**2)\n",
    "\n",
    "    all_losses = jnp.array([loss_f1, loss_f2, loss_f3, loss_i1, loss_i2, loss_i3])\n",
    "    loss_weighted = jnp.sum(all_losses * initial_weights)\n",
    "\n",
    "    return loss_weighted, all_losses"
   ]
  },
  {
   "cell_type": "markdown",
   "id": "9c85973d-d928-4c2c-9680-e1003fb0023e",
   "metadata": {},
   "source": [
    "# DNNs Model Definition and Parameter Initialization"
   ]
  },
  {
   "cell_type": "code",
   "execution_count": 8,
   "id": "576dd9ce-bb8a-4b49-93bf-c4c1571c2d3e",
   "metadata": {
    "execution": {
     "iopub.execute_input": "2025-08-05T13:06:58.862176Z",
     "iopub.status.busy": "2025-08-05T13:06:58.861716Z",
     "iopub.status.idle": "2025-08-05T13:06:58.868541Z",
     "shell.execute_reply": "2025-08-05T13:06:58.867975Z",
     "shell.execute_reply.started": "2025-08-05T13:06:58.862154Z"
    },
    "scrolled": true,
    "tags": []
   },
   "outputs": [],
   "source": [
    "def DNNs(params, t):\n",
    "    def activate(t):\n",
    "        if activation_function == 1:\n",
    "            return jnp.tanh(t)\n",
    "        elif activation_function == 2:\n",
    "            return jnp.maximum(0, t)  # ReLU\n",
    "        elif activation_function == 3:\n",
    "            return 1 / (1 + jnp.exp(-t))  # Sigmoid\n",
    "        else:\n",
    "            raise ValueError(\"Unsupported activation function. Use 1 for tanh, 2 for relu, or 3 for sigmoid.\")\n",
    "\n",
    "    for w, b in params[:-1]:\n",
    "        t = jnp.dot(t, w) + b\n",
    "        t = activate(t)\n",
    "\n",
    "    w, b = params[-1]\n",
    "    t = jnp.dot(t, w) + b\n",
    "    return t\n",
    "\n",
    "# Xavier initialization for the layer parameters\n",
    "def random_layer_params_xavier(m, n, key):\n",
    "    # Compute standard deviation for Xavier initialization\n",
    "    xavier_stddev = jnp.sqrt(2.0 / (m + n))\n",
    "    # Split random key for weights and biases\n",
    "    w_key, b_key = jax.random.split(key)\n",
    "    # Generate truncated normal weights (±2 standard deviations)\n",
    "    weights = xavier_stddev * jax.random.truncated_normal(\n",
    "        w_key, lower=-2.0, upper=2.0, shape=(m, n)\n",
    "    )\n",
    "    # Initialize biases to zero\n",
    "    biases = jnp.zeros((n,))\n",
    "    return weights, biases\n",
    "\n",
    "# Initialize parameters for all layers in a fully-connected neural network with the specified sizes\n",
    "def init_network_params(sizes_list, key):\n",
    "    keys = jax.random.split(key, len(sizes_list))\n",
    "    params = []\n",
    "    for sizes, key_i in zip(sizes_list, keys):\n",
    "        net_keys = jax.random.split(key_i, len(sizes) - 1)\n",
    "        net_params = [\n",
    "            random_layer_params_xavier(m, n, net_keys[j])\n",
    "            for j, (m, n) in enumerate(zip(sizes[:-1], sizes[1:]))\n",
    "        ]\n",
    "        params.append(net_params)\n",
    "    return params"
   ]
  },
  {
   "cell_type": "markdown",
   "id": "8d9dde4b-25ff-44f2-89b5-044b9916119d",
   "metadata": {},
   "source": [
    "# Definition of the optimizers"
   ]
  },
  {
   "cell_type": "code",
   "execution_count": 9,
   "id": "f3c2b8b3-5b22-44b5-855f-5b7c02752b08",
   "metadata": {
    "execution": {
     "iopub.execute_input": "2025-08-05T13:06:58.869710Z",
     "iopub.status.busy": "2025-08-05T13:06:58.869442Z",
     "iopub.status.idle": "2025-08-05T13:06:58.882141Z",
     "shell.execute_reply": "2025-08-05T13:06:58.881142Z",
     "shell.execute_reply.started": "2025-08-05T13:06:58.869682Z"
    },
    "scrolled": true,
    "tags": []
   },
   "outputs": [],
   "source": [
    "def train_adam(\n",
    "    params,\n",
    "    loss_fn,\n",
    "    loss_args: dict,\n",
    "    solver_config: dict = None\n",
    "):\n",
    "    # Default optimizer configuration\n",
    "    solver_config_defaults = {\n",
    "        \"init_value\": 1e-3,\n",
    "        \"decay_steps\": 1000,\n",
    "        \"alpha\": 0.01,\n",
    "        \"num_epochs\": 2000,\n",
    "        \"start_epoch\": 0,\n",
    "        \"record_info\": False,\n",
    "        \"log_interval\": 10,\n",
    "        \"print_interval\": 100\n",
    "    }\n",
    "\n",
    "    # Merge provided settings with defaults\n",
    "    cfg = {**solver_config_defaults, **(solver_config or {})}\n",
    "\n",
    "    # Initialize containers for logging\n",
    "    phase_epochs, phase_losses, phase_loss_terms= [], [], []\n",
    "\n",
    "    # Set up learning rate scheduler and optimizer\n",
    "    scheduler = optax.cosine_decay_schedule(\n",
    "        init_value=cfg['init_value'],\n",
    "        decay_steps=cfg['decay_steps'],\n",
    "        alpha=cfg['alpha']\n",
    "    )\n",
    "    optimizer = optax.adam(learning_rate=scheduler)\n",
    "    opt_state = optimizer.init(params)\n",
    "\n",
    "    @jax.jit\n",
    "    def update(params, opt_state):\n",
    "        (loss, all_losses), grads = jax.value_and_grad(loss_fn, has_aux=True)(params, **loss_args)\n",
    "        updates, opt_state = optimizer.update(grads, opt_state, params)\n",
    "        params = optax.apply_updates(params, updates)\n",
    "        return params, opt_state, loss, all_losses\n",
    "\n",
    "    # Main training loop\n",
    "    for epoch in range(cfg['num_epochs']):\n",
    "        params, opt_state, loss, all_losses = update(params, opt_state)\n",
    "        current_epoch = cfg['start_epoch'] + epoch\n",
    "\n",
    "        # Log information\n",
    "        if cfg['record_info'] and current_epoch % cfg['log_interval'] == 0:\n",
    "            phase_epochs.append(current_epoch)\n",
    "            phase_losses.append(loss)\n",
    "            phase_loss_terms.append(all_losses)\n",
    "\n",
    "        # Print training progress\n",
    "        if cfg['record_info'] and current_epoch % cfg['print_interval'] == 0:\n",
    "            print(f\"Epoch {current_epoch}, Total Loss: {loss:.3e}\")\n",
    "\n",
    "    return (\n",
    "        params,\n",
    "        phase_epochs if cfg['record_info'] else None,\n",
    "        phase_losses if cfg['record_info'] else None,\n",
    "        phase_loss_terms if cfg['record_info'] else None,\n",
    "        all_losses\n",
    "    )\n",
    "\n",
    "def train_lbfgs(\n",
    "    params,\n",
    "    loss_fn,\n",
    "    loss_args: dict,\n",
    "    solver_config: dict = None,\n",
    "):\n",
    "    if solver_config is None:\n",
    "        solver_config = {}\n",
    "\n",
    "    # Default optimizer configuration\n",
    "    solver_config_defaults = {\n",
    "        \"tol\": 1e-18,\n",
    "        \"maxiter\": 10000,\n",
    "        \"verbose\": False,\n",
    "        \"log_to_file\": False,\n",
    "        \"logfile\": \"log.txt\",\n",
    "        \"log_target_param\": False\n",
    "    }\n",
    "\n",
    "    # Merge provided settings with defaults\n",
    "    cfg = {**solver_config_defaults, **solver_config}\n",
    "\n",
    "    # Wrap the objective function to match the BFGS signature\n",
    "    def wrapped_loss_fn(p):\n",
    "        return loss_fn(p, **loss_args)\n",
    "\n",
    "    # Construct the custom BFGS solver\n",
    "    solver = jaxopt.My_BFGS(\n",
    "        fun=wrapped_loss_fn,\n",
    "        has_aux=True,\n",
    "        **cfg\n",
    "    )\n",
    "\n",
    "    sol = solver.run(params)\n",
    "    return sol.params, sol.state.aux"
   ]
  },
  {
   "cell_type": "markdown",
   "id": "4ff2c042-e139-404f-a5c2-7cbcda564021",
   "metadata": {},
   "source": [
    "# Initialization"
   ]
  },
  {
   "cell_type": "code",
   "execution_count": 10,
   "id": "cab17935-2afd-4f9f-bd7a-cf883f291764",
   "metadata": {
    "execution": {
     "iopub.execute_input": "2025-08-05T13:06:58.883156Z",
     "iopub.status.busy": "2025-08-05T13:06:58.882876Z",
     "iopub.status.idle": "2025-08-05T13:07:02.316092Z",
     "shell.execute_reply": "2025-08-05T13:07:02.314969Z",
     "shell.execute_reply.started": "2025-08-05T13:06:58.883133Z"
    },
    "scrolled": true,
    "tags": []
   },
   "outputs": [],
   "source": [
    "# Generate random points\n",
    "jaxKey = jax.random.PRNGKey(initial_key)\n",
    "sampler = qmc.LatinHypercube(d=1)\n",
    "sample = sampler.random(n=N_f)\n",
    "scaled_sample = qmc.scale(sample, tmin, tmax)\n",
    "inPoints = jnp.array(scaled_sample)\n",
    "\n",
    "# Initialize network parameters\n",
    "params = init_network_params(netLayers, jaxKey)"
   ]
  },
  {
   "cell_type": "markdown",
   "id": "41085c03-8b3a-4f85-8811-0c26321fc4cd",
   "metadata": {},
   "source": [
    "# Training"
   ]
  },
  {
   "cell_type": "code",
   "execution_count": 11,
   "id": "5db6543c-a075-4feb-89c8-f3b9b7e7b585",
   "metadata": {
    "execution": {
     "iopub.execute_input": "2025-08-05T13:07:02.317718Z",
     "iopub.status.busy": "2025-08-05T13:07:02.317472Z",
     "iopub.status.idle": "2025-08-05T13:08:40.675443Z",
     "shell.execute_reply": "2025-08-05T13:08:40.674529Z",
     "shell.execute_reply.started": "2025-08-05T13:07:02.317693Z"
    },
    "scrolled": true,
    "tags": []
   },
   "outputs": [
    {
     "name": "stdout",
     "output_type": "stream",
     "text": [
      "Epoch 0, Total Loss: 2.206e+01\r\n",
      "Epoch 1000, Total Loss: 1.276e-01\r\n",
      "Epoch 2000, Total Loss: 1.231e-01\r\n",
      "Epoch 3000, Total Loss: 1.166e-01\r\n",
      "Epoch 4000, Total Loss: 1.085e-01\r\n",
      "Epoch 5000, Total Loss: 9.867e-02\r\n"
     ]
    }
   ],
   "source": [
    "start_time_nn = time.time()\n",
    "\n",
    "# Step 1: Adam optimizer\n",
    "solver_config_adam = {\n",
    "    \"init_value\": 1e-3,\n",
    "    \"decay_steps\": 1000,\n",
    "    \"alpha\": 0.01,\n",
    "    \"num_epochs\": step_epochs[0],\n",
    "    \"start_epoch\": 0,\n",
    "    \"record_info\": True,\n",
    "    \"log_interval\": 10,\n",
    "    \"print_interval\": 1000\n",
    "}\n",
    "\n",
    "loss_args_adam = {\n",
    "    \"inPoints\": inPoints,\n",
    "}\n",
    "\n",
    "params, hist1_epoch, hist1_loss, hist1_loss_terms, loss_components = train_adam(\n",
    "    params,\n",
    "    loss_fun1,\n",
    "    loss_args_adam,\n",
    "    solver_config_adam\n",
    ")\n",
    "\n",
    "losses = jax.lax.stop_gradient(loss_components)\n",
    "initial_weights = losses / jnp.sum(losses)\n",
    "\n",
    "# Step 2: LBFGS optimizer\n",
    "solver_config_lbfgs = {\n",
    "    \"tol\": 1e-16,\n",
    "    \"maxiter\": step_epochs[1],\n",
    "    \"verbose\": False,\n",
    "    \"log_to_file\": True,\n",
    "    \"logfile\": log_path,\n",
    "    \"log_target_param\": False\n",
    "}\n",
    "loss_args_lbfgs = {\n",
    "    \"inPoints\": inPoints,\n",
    "    \"initial_weights\": initial_weights\n",
    "}\n",
    "\n",
    "params, _ = train_lbfgs(params, loss_fun2, loss_args_lbfgs, solver_config_lbfgs)\n",
    "\n",
    "end_time_nn = time.time()\n",
    "time_nn = end_time_nn - start_time_nn"
   ]
  },
  {
   "cell_type": "markdown",
   "id": "6bc89b67-8525-4226-8d9a-efefdfcd06c4",
   "metadata": {},
   "source": [
    "# Calculation of the solution effect of DNNs and DDEINT "
   ]
  },
  {
   "cell_type": "code",
   "execution_count": 12,
   "id": "867a4eb7-46b6-455c-b096-19e1fbacfbf4",
   "metadata": {
    "execution": {
     "iopub.execute_input": "2025-08-05T13:08:40.676778Z",
     "iopub.status.busy": "2025-08-05T13:08:40.676454Z",
     "iopub.status.idle": "2025-08-05T13:08:46.437830Z",
     "shell.execute_reply": "2025-08-05T13:08:46.436882Z",
     "shell.execute_reply.started": "2025-08-05T13:08:40.676753Z"
    },
    "scrolled": true,
    "tags": []
   },
   "outputs": [
    {
     "name": "stdout",
     "output_type": "stream",
     "text": [
      "{'N_f': 5000, 'q1': 0.7, 'q2': 0.5, 'y1_RE': '2.951778e-03', 'y1_AE': '2.951364e-03', 'y2_RE': '1.060055e-03', 'y2_AE': '4.055846e-03', 'y3_RE': '1.197595e-03', 'y3_AE': '2.342149e-03', 'time_nn': 98.3516914844513, 'time_dde': 5.297929763793945}\r\n"
     ]
    }
   ],
   "source": [
    "# DNNs\n",
    "T = np.linspace(tmin, tmax, 5000).reshape(-1, 1)\n",
    "nn1_sol = DNNs(params[0], T)\n",
    "nn2_sol = DNNs(params[1], T)\n",
    "nn3_sol = DNNs(params[2], T)\n",
    "\n",
    "# DDEINT\n",
    "def model(Y, t):\n",
    "    S, I, R = Y(t)\n",
    "    S_q1, I_q1, R_q1 = Y(t * q1)\n",
    "    S_q2, I_q2, R_q2 = Y(t * q2)\n",
    "    dSdt = -beta * S * I_q1 + gama * R_q1\n",
    "    dIdt = beta * S * I_q1 - alpha * I_q2\n",
    "    dRdt = alpha * I_q2 - gama * R_q1\n",
    "    return jnp.array([dSdt, dIdt, dRdt])\n",
    "\n",
    "history = lambda t : [5, 2, 0]\n",
    "\n",
    "start_time_dde = time.time()\n",
    "dde_sol = ddeint(model, history, jnp.squeeze(T))\n",
    "end_time_dde = time.time()\n",
    "time_dde = end_time_dde - start_time_dde\n",
    "\n",
    "dde1_sol = dde_sol[:,0].reshape(-1, 1)\n",
    "dde2_sol = dde_sol[:,1].reshape(-1, 1)\n",
    "dde3_sol = dde_sol[:,2].reshape(-1, 1)\n",
    "\n",
    "abs_error_nn1_rr = np.abs(nn1_sol - dde1_sol)\n",
    "rel_error_nn1_rr = np.linalg.norm(nn1_sol - dde1_sol, ord=2) / np.linalg.norm(dde1_sol, ord=2)\n",
    "mae_nn1_rr = np.mean(abs_error_nn1_rr)\n",
    "abs_error_nn2_rr = np.abs(nn2_sol - dde2_sol)\n",
    "rel_error_nn2_rr = np.linalg.norm(nn2_sol - dde2_sol, ord=2) / np.linalg.norm(dde2_sol, ord=2)\n",
    "mae_nn2_rr = np.mean(abs_error_nn2_rr)\n",
    "abs_error_nn3_rr = np.abs(nn3_sol - dde3_sol)\n",
    "rel_error_nn3_rr = np.linalg.norm(nn3_sol - dde3_sol, ord=2) / np.linalg.norm(dde3_sol, ord=2)\n",
    "mae_nn3_rr = np.mean(abs_error_nn3_rr)\n",
    "\n",
    "# record the result\n",
    "result = {\n",
    "    \"N_f\": N_f,\n",
    "    \"q1\": q1,\n",
    "    \"q2\": q2,\n",
    "    \"y1_RE\": \"{:.6e}\".format(rel_error_nn1_rr),\n",
    "    \"y1_AE\": \"{:.6e}\".format(mae_nn1_rr),\n",
    "    \"y2_RE\": \"{:.6e}\".format(rel_error_nn2_rr),\n",
    "    \"y2_AE\": \"{:.6e}\".format(mae_nn2_rr),\n",
    "    \"y3_RE\": \"{:.6e}\".format(rel_error_nn3_rr),\n",
    "    \"y3_AE\": \"{:.6e}\".format(mae_nn3_rr),\n",
    "    \"time_nn\": time_nn,\n",
    "    \"time_dde\": time_dde\n",
    "}\n",
    "print(result)\n",
    "results.append(result)"
   ]
  },
  {
   "cell_type": "markdown",
   "id": "8f54a686-7a6f-463b-b7d3-3f2bc470dbe6",
   "metadata": {},
   "source": [
    "# Visualization of numerical solutions"
   ]
  },
  {
   "cell_type": "code",
   "execution_count": 13,
   "id": "43357ff9-fdfe-4e85-8c7f-9fad10bec2e1",
   "metadata": {
    "execution": {
     "iopub.execute_input": "2025-08-05T13:08:46.439499Z",
     "iopub.status.busy": "2025-08-05T13:08:46.439115Z",
     "iopub.status.idle": "2025-08-05T13:08:47.488060Z",
     "shell.execute_reply": "2025-08-05T13:08:47.487423Z",
     "shell.execute_reply.started": "2025-08-05T13:08:46.439471Z"
    },
    "scrolled": true,
    "tags": []
   },
   "outputs": [
    {
     "data": {
      "image/png": "[encoded data removed]",
      "text/plain": [
       "<Figure size 629.921x472.441 with 1 Axes>"
      ]
     },
     "metadata": {},
     "output_type": "display_data"
    }
   ],
   "source": [
    "#Uniform image size\n",
    "figsize = (16 / 2.54, 12 / 2.54)\n",
    "\n",
    "fig = plt.figure(figsize=figsize)\n",
    "plt.plot(T, dde1_sol, '--', color='black', label='DDEint Solution: $y_1(t)$')\n",
    "plt.plot(T, dde2_sol, '--', color='purple', label='DDEint Solution: $y_2(t)$')\n",
    "plt.plot(T, dde3_sol, '--', color='teal', label='DDEint Solution: $y_3(t)$')\n",
    "plt.plot(T, nn1_sol, '-', color='black', label='PINN-PDDEs Solution: $\\hat{y_1}(t)$')\n",
    "plt.plot(T, nn2_sol, '-', color='purple', label='PINN-PDDEs Solution: $\\hat{y_2}(t)$')\n",
    "plt.plot(T, nn3_sol, '-', color='teal', label='PINN-PDDEs Solution: $\\hat{y_3}(t)$')\n",
    "plt.legend(prop=prop, loc='upper right')\n",
    "plt.xlabel('$t$', fontproperties=prop)\n",
    "plt.ylabel('$y$', rotation=0, labelpad=15, fontproperties=prop)\n",
    "for label in plt.gca().get_xticklabels() + plt.gca().get_yticklabels():\n",
    "    label.set_fontproperties(prop)\n",
    "plt.grid(True, which='major', axis='both', linestyle='--', linewidth=0.5)\n",
    "plot_path = os.path.join(picture_path, 'nn_solution_2d.png')\n",
    "plt.savefig(plot_path, dpi=600, bbox_inches='tight')\n",
    "plt.show()\n",
    "plt.close(fig)"
   ]
  },
  {
   "cell_type": "markdown",
   "id": "5bd09c0b-3b33-4ff4-948b-4bd78cbb9e3c",
   "metadata": {},
   "source": [
    "# Visualization of loss value changes"
   ]
  },
  {
   "cell_type": "code",
   "execution_count": 14,
   "id": "c7cb6043-7aa7-47d0-9edf-54ad1b0cf199",
   "metadata": {
    "execution": {
     "iopub.execute_input": "2025-08-05T13:08:47.489099Z",
     "iopub.status.busy": "2025-08-05T13:08:47.488808Z",
     "iopub.status.idle": "2025-08-05T13:08:48.433026Z",
     "shell.execute_reply": "2025-08-05T13:08:48.432361Z",
     "shell.execute_reply.started": "2025-08-05T13:08:47.489076Z"
    },
    "scrolled": true
   },
   "outputs": [
    {
     "data": {
      "image/png": "[encoded data removed]",
      "text/plain": [
       "<Figure size 629.921x472.441 with 1 Axes>"
      ]
     },
     "metadata": {},
     "output_type": "display_data"
    }
   ],
   "source": [
    "adam_arr, col_names = process_log.format_adam_log(hist1_epoch, hist1_loss)\n",
    "bfgs_arr, col_names = process_log.extract_bfgs_info(log_path, step_epochs[0], 10)\n",
    "all_arr = np.vstack([adam_arr, bfgs_arr])\n",
    "\n",
    "epoch_history = all_arr[:, 0]\n",
    "loss_history = all_arr[:, 1]\n",
    "\n",
    "fig = plt.figure(figsize=figsize)\n",
    "plt.plot(epoch_history, loss_history, 'k', label='Loss')\n",
    "plt.yscale('log')\n",
    "plt.legend(prop=prop, loc='best')\n",
    "plt.xlabel('$Epoch$', fontproperties=prop)\n",
    "plt.ylabel('$Loss$', rotation=0, labelpad=15, fontproperties=prop)\n",
    "for label in plt.gca().get_xticklabels() + plt.gca().get_yticklabels():\n",
    "    label.set_fontproperties(prop)\n",
    "plt.grid(True, which='major', axis='both', linestyle='--', linewidth=0.5)\n",
    "plot_path = os.path.join(picture_path, 'loss_history.png')\n",
    "plt.savefig(plot_path, dpi=600, bbox_inches='tight')\n",
    "plt.show()\n",
    "plt.close(fig)"
   ]
  },
  {
   "cell_type": "code",
   "execution_count": null,
   "id": "6a513bde-b991-47c1-80b4-7ba858bbd789",
   "metadata": {
    "scrolled": true
   },
   "outputs": [],
   "source": []
  }
 ],
 "metadata": {
  "kernelspec": {
   "display_name": "Python 3",
   "language": "python",
   "name": "py35-paddle1.2.0"
  },
  "language_info": {
   "codemirror_mode": {
    "name": "ipython",
    "version": 3
   },
   "file_extension": ".py",
   "mimetype": "text/x-python",
   "name": "python",
   "nbconvert_exporter": "python",
   "pygments_lexer": "ipython3",
   "version": "3.10.10"
  }
 },
 "nbformat": 4,
 "nbformat_minor": 5
}
