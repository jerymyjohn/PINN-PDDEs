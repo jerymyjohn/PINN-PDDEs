{
 "cells": [
  {
   "cell_type": "markdown",
   "id": "6b15c863-cb8c-4f00-8ec0-5a4439665580",
   "metadata": {},
   "source": [
    "# Import"
   ]
  },
  {
   "cell_type": "code",
   "execution_count": 1,
   "id": "179a1b0e-a2ca-4f7f-9baf-fcc9562610f5",
   "metadata": {
    "execution": {
     "iopub.execute_input": "2025-08-04T07:43:45.322823Z",
     "iopub.status.busy": "2025-08-04T07:43:45.322326Z",
     "iopub.status.idle": "2025-08-04T07:43:49.148316Z",
     "shell.execute_reply": "2025-08-04T07:43:49.147624Z",
     "shell.execute_reply.started": "2025-08-04T07:43:45.322792Z"
    },
    "scrolled": true,
    "tags": []
   },
   "outputs": [],
   "source": [
    "import sys\n",
    "sys.path.append('/home/aistudio/external-libraries')\n",
    "\n",
    "import jax\n",
    "import jax.numpy as jnp\n",
    "import jax.random as random\n",
    "import optax\n",
    "import jaxopt\n",
    "import numpy as np\n",
    "\n",
    "jax.config.update(\"jax_enable_x64\", True)\n",
    "\n",
    "import matplotlib.pyplot as plt\n",
    "from matplotlib import font_manager\n",
    "import matplotlib.ticker as ticker\n",
    "from scipy.stats import qmc\n",
    "import time\n",
    "import pandas as pd\n",
    "import process_log\n",
    "import os\n",
    "import shutil\n",
    "from ddeint import ddeint\n",
    "\n",
    "\n",
    "font_path = '/home/aistudio/external-libraries/Times_New_Roman.ttf'\n",
    "path = '/home/aistudio/PINN-PDDEs/PD-ODE'\n",
    "prop = font_manager.FontProperties(fname=font_path)\n",
    "\n",
    "picture_path = os.path.join(path, 'ODE_FP_ex3_picture_result')\n",
    "os.makedirs(picture_path, exist_ok=True)\n",
    "result_path = os.path.join(path, 'ODE_FP_ex3_result')\n",
    "os.makedirs(result_path, exist_ok=True)\n",
    "\n",
    "log_path = os.path.join(result_path, 'log')\n",
    "os.makedirs(log_path, exist_ok=True)"
   ]
  },
  {
   "cell_type": "markdown",
   "id": "3de787c1-7081-4c2d-afe7-d172b7a0982f",
   "metadata": {},
   "source": [
    "# Configuration"
   ]
  },
  {
   "cell_type": "code",
   "execution_count": 2,
   "id": "c1cfa76e-1871-4fc0-9934-ed591784072f",
   "metadata": {
    "execution": {
     "iopub.execute_input": "2025-08-04T07:43:49.149835Z",
     "iopub.status.busy": "2025-08-04T07:43:49.149443Z",
     "iopub.status.idle": "2025-08-04T07:43:49.153483Z",
     "shell.execute_reply": "2025-08-04T07:43:49.152974Z",
     "shell.execute_reply.started": "2025-08-04T07:43:49.149813Z"
    },
    "scrolled": true,
    "tags": []
   },
   "outputs": [],
   "source": [
    "# config = {\n",
    "#     \"q\": 0.5,\n",
    "#     \"tmin\": 0.,\n",
    "#     \"tmax\": 1.,\n",
    "#     \"netLayers\": [1, 20, 40, 20, 1],\n",
    "#     \"activation_function\": 1,\n",
    "#     \"N_f\": 5000,\n",
    "#     \"step_epochs\": [5001, 10001],\n",
    "# #    \"step_epochs\": [2, 4],\n",
    "#     \"initial_key\": 0,\n",
    "#     \"log_path\": os.path.join(log_path,f\"log.txt\"),\n",
    "#     \"picture_path\": picture_path\n",
    "# }\n",
    "# results = []"
   ]
  },
  {
   "cell_type": "markdown",
   "id": "2aa0ad8a-2672-430d-9674-862695dda1ec",
   "metadata": {},
   "source": [
    "# Definition of the equation and its exact solution\n",
    "The considered equation is as follows:\n",
    "$$\n",
    "\\begin{cases}\n",
    "\\frac{1}{2}q^{2}y''(qt) + \\frac{21}{2}q\\frac{y'(qt)}{t} + y(t)^{2} = t^{8} + 48 q^{4}t^{2}, \\\\\n",
    "y(0) = 0,\\\n",
    "y'(0) = 0.\n",
    "\\end{cases}\n",
    "$$\n",
    "The analytical solution of this equation is:\n",
    "$$\n",
    "  u(t)=t^{4}\n",
    "$$"
   ]
  },
  {
   "cell_type": "code",
   "execution_count": 3,
   "id": "2413cebc-cf23-46e1-85be-78e09840f4ba",
   "metadata": {
    "execution": {
     "iopub.execute_input": "2025-08-04T07:43:49.154306Z",
     "iopub.status.busy": "2025-08-04T07:43:49.154084Z",
     "iopub.status.idle": "2025-08-04T07:43:49.159147Z",
     "shell.execute_reply": "2025-08-04T07:43:49.158610Z",
     "shell.execute_reply.started": "2025-08-04T07:43:49.154287Z"
    },
    "scrolled": true,
    "tags": []
   },
   "outputs": [],
   "source": [
    "for key, value in config.items():\n",
    "    globals()[key] = value\n",
    "\n",
    "    def PDDE(t, u):\n",
    "    # Define u'(t) and u''(t)\n",
    "        u_t = lambda t: jax.grad(lambda t: jnp.sum(u(t)))(t)\n",
    "        u_tt = lambda t: jax.grad(lambda t: jnp.sum(u_t(t)))(t)\n",
    "\n",
    "        rhs = t**9 + 48*q**4 * t**3 \n",
    "        return 0.5 * q**2 * t * u_tt(q*t) + 21/2 * q* u_t(q*t) + t * u(t)**2 - rhs\n",
    "\n",
    "    def u_bound1(t_c):\n",
    "        return 0 \n",
    "\n",
    "    def u_bound2(t_c):\n",
    "        return 0 \n",
    "\n",
    "# exact solution\n",
    "def u(t):\n",
    "    return t ** 4"
   ]
  },
  {
   "cell_type": "markdown",
   "id": "c0a732cc-945b-47ea-934f-0d4cad9f9079",
   "metadata": {},
   "source": [
    "# Definition of the loss functions"
   ]
  },
  {
   "cell_type": "code",
   "execution_count": 4,
   "id": "1d5c07d1-fef6-4926-807f-73ab2caa68ee",
   "metadata": {
    "execution": {
     "iopub.execute_input": "2025-08-04T07:43:49.159972Z",
     "iopub.status.busy": "2025-08-04T07:43:49.159752Z",
     "iopub.status.idle": "2025-08-04T07:43:49.166269Z",
     "shell.execute_reply": "2025-08-04T07:43:49.165804Z",
     "shell.execute_reply.started": "2025-08-04T07:43:49.159954Z"
    },
    "scrolled": true,
    "tags": []
   },
   "outputs": [],
   "source": [
    "def loss_fun1(params, inPoints):\n",
    "    t_c = inPoints[:,[0]]\n",
    "    ufunc = lambda t: DNNs(params, t)\n",
    "    ufunc_t = lambda t: jax.grad(lambda t: jnp.sum(ufunc(t)))(t)\n",
    "\n",
    "    loss_f = jnp.mean(PDDE(t_c, ufunc)**2)\n",
    "    loss_i1 = jnp.mean((ufunc(tmin) - u_bound1(tmin))**2)\n",
    "    loss_i2 = jnp.mean((ufunc_t(tmin) - u_bound2(tmin))**2)\n",
    "    loss_i = jnp.mean(jnp.array([loss_i1, loss_i2]))\n",
    "\n",
    "    all_losses = jnp.array([loss_f, loss_i])\n",
    "    total_loss = jnp.sum(all_losses)\n",
    "    weights = all_losses / total_loss\n",
    "    loss_weighted = jnp.sum(all_losses * weights)\n",
    "    return loss_weighted, all_losses\n",
    "\n",
    "def loss_fun2(params, inPoints, initial_weights):\n",
    "    t_c = inPoints[:,[0]]\n",
    "    ufunc = lambda t: DNNs(params, t)\n",
    "    ufunc_t = lambda t: jax.grad(lambda t: jnp.sum(ufunc(t)))(t)\n",
    "\n",
    "    loss_f = jnp.mean(PDDE(t_c, ufunc)**2)\n",
    "    loss_i1 = jnp.mean((ufunc(tmin) - u_bound1(tmin))**2)\n",
    "    loss_i2 = jnp.mean((ufunc_t(tmin) - u_bound2(tmin))**2)\n",
    "    loss_i = jnp.mean(jnp.array([loss_i1, loss_i2]))\n",
    "\n",
    "    all_losses = jnp.array([loss_f, loss_i])\n",
    "    loss_weighted = jnp.sum(all_losses * initial_weights)\n",
    "\n",
    "    return loss_weighted, all_losses"
   ]
  },
  {
   "cell_type": "markdown",
   "id": "9c85973d-d928-4c2c-9680-e1003fb0023e",
   "metadata": {},
   "source": [
    "# DNNs Model Definition and Parameter Initialization"
   ]
  },
  {
   "cell_type": "code",
   "execution_count": 5,
   "id": "576dd9ce-bb8a-4b49-93bf-c4c1571c2d3e",
   "metadata": {
    "execution": {
     "iopub.execute_input": "2025-08-04T07:43:49.167883Z",
     "iopub.status.busy": "2025-08-04T07:43:49.167656Z",
     "iopub.status.idle": "2025-08-04T07:43:49.176270Z",
     "shell.execute_reply": "2025-08-04T07:43:49.175804Z",
     "shell.execute_reply.started": "2025-08-04T07:43:49.167865Z"
    },
    "scrolled": true,
    "tags": []
   },
   "outputs": [],
   "source": [
    "def DNNs(params, t):\n",
    "    def activate(t):\n",
    "        if activation_function == 1:\n",
    "            return jnp.tanh(t)\n",
    "        elif activation_function == 2:\n",
    "            return jnp.maximum(0, t)  # ReLU\n",
    "        elif activation_function == 3:\n",
    "            return 1 / (1 + jnp.exp(-t))  # Sigmoid\n",
    "        elif activation_function == 4:\n",
    "            return jnp.sin(t)\n",
    "\n",
    "    for w, b in params[:-1]:\n",
    "        t = jnp.dot(t, w) + b\n",
    "        t = activate(t)\n",
    "\n",
    "    w, b = params[-1]\n",
    "    t = jnp.dot(t, w) + b\n",
    "    return t\n",
    "\n",
    "# Xavier initialization for the layer parameters\n",
    "def random_layer_params_xavier(m, n, key):\n",
    "    # Compute standard deviation for Xavier initialization\n",
    "    xavier_stddev = jnp.sqrt(2.0 / (m + n))\n",
    "    # Split random key for weights and biases\n",
    "    w_key, b_key = jax.random.split(key)\n",
    "    # Generate truncated normal weights (±2 standard deviations)\n",
    "    weights = xavier_stddev * jax.random.truncated_normal(\n",
    "        w_key, lower=-2.0, upper=2.0, shape=(m, n)\n",
    "    )\n",
    "    # Initialize biases to zero\n",
    "    biases = jnp.zeros((n,))\n",
    "    return weights, biases\n",
    "\n",
    "# Initialize parameters for all layers in a fully-connected neural network with the specified sizes\n",
    "def init_network_params(sizes, key):\n",
    "    keys = jax.random.split(key, len(sizes))\n",
    "    return [random_layer_params_xavier(m, n, k) for m, n, k in zip(sizes[:-1], sizes[1:], keys)]"
   ]
  },
  {
   "cell_type": "markdown",
   "id": "8d9dde4b-25ff-44f2-89b5-044b9916119d",
   "metadata": {},
   "source": [
    "# Definition of the optimizers"
   ]
  },
  {
   "cell_type": "code",
   "execution_count": 6,
   "id": "f3c2b8b3-5b22-44b5-855f-5b7c02752b08",
   "metadata": {
    "execution": {
     "iopub.execute_input": "2025-08-04T07:43:49.177090Z",
     "iopub.status.busy": "2025-08-04T07:43:49.176873Z",
     "iopub.status.idle": "2025-08-04T07:43:49.186707Z",
     "shell.execute_reply": "2025-08-04T07:43:49.186211Z",
     "shell.execute_reply.started": "2025-08-04T07:43:49.177073Z"
    },
    "scrolled": true,
    "tags": []
   },
   "outputs": [],
   "source": [
    "def train_adam(\n",
    "    params,\n",
    "    loss_fn,\n",
    "    loss_args: dict,\n",
    "    solver_config: dict = None\n",
    "):\n",
    "    # Default optimizer configuration\n",
    "    solver_config_defaults = {\n",
    "        \"init_value\": 1e-3,\n",
    "        \"decay_steps\": 1000,\n",
    "        \"alpha\": 0.01,\n",
    "        \"num_epochs\": 2000,\n",
    "        \"start_epoch\": 0,\n",
    "        \"record_info\": False,\n",
    "        \"log_interval\": 10,\n",
    "        \"print_interval\": 100\n",
    "    }\n",
    "\n",
    "    # Merge provided settings with defaults\n",
    "    cfg = {**solver_config_defaults, **(solver_config or {})}\n",
    "\n",
    "    # Initialize containers for logging\n",
    "    phase_epochs, phase_losses, phase_loss_terms= [], [], []\n",
    "\n",
    "    # Set up learning rate scheduler and optimizer\n",
    "    scheduler = optax.cosine_decay_schedule(\n",
    "        init_value=cfg['init_value'],\n",
    "        decay_steps=cfg['decay_steps'],\n",
    "        alpha=cfg['alpha']\n",
    "    )\n",
    "    optimizer = optax.adam(learning_rate=scheduler)\n",
    "    opt_state = optimizer.init(params)\n",
    "\n",
    "    @jax.jit\n",
    "    def update(params, opt_state):\n",
    "        (loss, all_losses), grads = jax.value_and_grad(loss_fn, has_aux=True)(params, **loss_args)\n",
    "        updates, opt_state = optimizer.update(grads, opt_state, params)\n",
    "        params = optax.apply_updates(params, updates)\n",
    "        return params, opt_state, loss, all_losses\n",
    "\n",
    "    # Main training loop\n",
    "    for epoch in range(cfg['num_epochs']):\n",
    "        params, opt_state, loss, all_losses = update(params, opt_state)\n",
    "        current_epoch = cfg['start_epoch'] + epoch\n",
    "\n",
    "        # Log information\n",
    "        if cfg['record_info'] and current_epoch % cfg['log_interval'] == 0:\n",
    "            phase_epochs.append(current_epoch)\n",
    "            phase_losses.append(loss)\n",
    "            phase_loss_terms.append(all_losses)\n",
    "\n",
    "        # Print training progress\n",
    "        if cfg['record_info'] and current_epoch % cfg['print_interval'] == 0:\n",
    "            print(f\"Epoch {current_epoch}, Total Loss: {loss:.3e}\")\n",
    "\n",
    "    return (\n",
    "        params,\n",
    "        phase_epochs if cfg['record_info'] else None,\n",
    "        phase_losses if cfg['record_info'] else None,\n",
    "        phase_loss_terms if cfg['record_info'] else None,\n",
    "        all_losses\n",
    "    )\n",
    "\n",
    "def train_lbfgs(\n",
    "    params,\n",
    "    loss_fn,\n",
    "    loss_args: dict,\n",
    "    solver_config: dict = None,\n",
    "):\n",
    "    if solver_config is None:\n",
    "        solver_config = {}\n",
    "\n",
    "    # Default optimizer configuration\n",
    "    solver_config_defaults = {\n",
    "        \"tol\": 1e-18,\n",
    "        \"maxiter\": 10000,\n",
    "        \"verbose\": False,\n",
    "        \"log_to_file\": False,\n",
    "        \"logfile\": \"log.txt\",\n",
    "        \"log_target_param\": False\n",
    "    }\n",
    "\n",
    "    # Merge provided settings with defaults\n",
    "    cfg = {**solver_config_defaults, **solver_config}\n",
    "\n",
    "    # Wrap the objective function to match the BFGS signature\n",
    "    def wrapped_loss_fn(p):\n",
    "        return loss_fn(p, **loss_args)\n",
    "\n",
    "    # Construct the custom BFGS solver\n",
    "    solver = jaxopt.My_BFGS(\n",
    "        fun=wrapped_loss_fn,\n",
    "        has_aux=True,\n",
    "        **cfg\n",
    "    )\n",
    "\n",
    "    sol = solver.run(params)\n",
    "    return sol.params, sol.state.aux"
   ]
  },
  {
   "cell_type": "markdown",
   "id": "4ff2c042-e139-404f-a5c2-7cbcda564021",
   "metadata": {},
   "source": [
    "# Initialization"
   ]
  },
  {
   "cell_type": "code",
   "execution_count": 7,
   "id": "cab17935-2afd-4f9f-bd7a-cf883f291764",
   "metadata": {
    "execution": {
     "iopub.execute_input": "2025-08-04T07:43:49.187505Z",
     "iopub.status.busy": "2025-08-04T07:43:49.187286Z",
     "iopub.status.idle": "2025-08-04T07:43:52.988814Z",
     "shell.execute_reply": "2025-08-04T07:43:52.987625Z",
     "shell.execute_reply.started": "2025-08-04T07:43:49.187488Z"
    },
    "scrolled": true,
    "tags": []
   },
   "outputs": [],
   "source": [
    "# Generate random points\n",
    "jaxKey = jax.random.PRNGKey(initial_key)\n",
    "sampler = qmc.LatinHypercube(d=1)\n",
    "sample = sampler.random(n=N_f)\n",
    "scaled_sample = qmc.scale(sample, tmin, tmax)\n",
    "inPoints = jnp.array(scaled_sample)\n",
    "\n",
    "# Initialize network parameters\n",
    "params = init_network_params(netLayers, jaxKey)"
   ]
  },
  {
   "cell_type": "markdown",
   "id": "41085c03-8b3a-4f85-8811-0c26321fc4cd",
   "metadata": {},
   "source": [
    "# Training"
   ]
  },
  {
   "cell_type": "code",
   "execution_count": 8,
   "id": "5db6543c-a075-4feb-89c8-f3b9b7e7b585",
   "metadata": {
    "execution": {
     "iopub.execute_input": "2025-08-04T07:43:52.990617Z",
     "iopub.status.busy": "2025-08-04T07:43:52.990268Z",
     "iopub.status.idle": "2025-08-04T07:45:29.988098Z",
     "shell.execute_reply": "2025-08-04T07:45:29.987146Z",
     "shell.execute_reply.started": "2025-08-04T07:43:52.990590Z"
    },
    "scrolled": true,
    "tags": []
   },
   "outputs": [
    {
     "name": "stdout",
     "output_type": "stream",
     "text": [
      "Epoch 0, Total Loss: 2.556e+00\r\n",
      "Epoch 1000, Total Loss: 1.657e-02\r\n",
      "Epoch 2000, Total Loss: 1.485e-02\r\n",
      "Epoch 3000, Total Loss: 1.252e-02\r\n",
      "Epoch 4000, Total Loss: 9.788e-03\r\n",
      "Epoch 5000, Total Loss: 6.984e-03\r\n"
     ]
    }
   ],
   "source": [
    "start_time_nn = time.time()\n",
    "\n",
    "# Step 1: Adam optimizer\n",
    "solver_config_adam = {\n",
    "    \"init_value\": 1e-3,\n",
    "    \"decay_steps\": 1000,\n",
    "    \"alpha\": 0.01,\n",
    "    \"num_epochs\": step_epochs[0],\n",
    "    \"start_epoch\": 0,\n",
    "    \"record_info\": True,\n",
    "    \"log_interval\": 10,\n",
    "    \"print_interval\": 1000\n",
    "}\n",
    "\n",
    "loss_args_adam = {\n",
    "    \"inPoints\": inPoints,\n",
    "}\n",
    "\n",
    "params, hist1_epoch, hist1_loss, hist1_loss_terms, loss_components = train_adam(\n",
    "    params,\n",
    "    loss_fun1,\n",
    "    loss_args_adam,\n",
    "    solver_config_adam\n",
    ")\n",
    "\n",
    "losses = jax.lax.stop_gradient(loss_components)\n",
    "initial_weights = losses / jnp.sum(losses)\n",
    "\n",
    "# Step 2: LBFGS optimizer\n",
    "solver_config_lbfgs = {\n",
    "    \"tol\": 1e-16,\n",
    "    \"maxiter\": step_epochs[1],\n",
    "    \"verbose\": False,\n",
    "    \"log_to_file\": True,\n",
    "    \"logfile\": log_path,\n",
    "    \"log_target_param\": False\n",
    "}\n",
    "loss_args_lbfgs = {\n",
    "    \"inPoints\": inPoints,\n",
    "    \"initial_weights\": initial_weights\n",
    "}\n",
    "\n",
    "params, _ = train_lbfgs(params, loss_fun2, loss_args_lbfgs, solver_config_lbfgs)\n",
    "\n",
    "end_time_nn = time.time()\n",
    "time_nn = end_time_nn - start_time_nn"
   ]
  },
  {
   "cell_type": "markdown",
   "id": "6bc89b67-8525-4226-8d9a-efefdfcd06c4",
   "metadata": {},
   "source": [
    "# Calculation of the solution effect of DNNs and DDEINT "
   ]
  },
  {
   "cell_type": "code",
   "execution_count": 9,
   "id": "867a4eb7-46b6-455c-b096-19e1fbacfbf4",
   "metadata": {
    "execution": {
     "iopub.execute_input": "2025-08-04T07:45:29.989403Z",
     "iopub.status.busy": "2025-08-04T07:45:29.989100Z",
     "iopub.status.idle": "2025-08-04T07:45:30.547906Z",
     "shell.execute_reply": "2025-08-04T07:45:30.547260Z",
     "shell.execute_reply.started": "2025-08-04T07:45:29.989382Z"
    },
    "scrolled": true,
    "tags": []
   },
   "outputs": [
    {
     "name": "stdout",
     "output_type": "stream",
     "text": [
      "{'netLayers': [1, 20, 40, 20, 1], 'q': 0.5, 'N_f': 5000, 'RE': '3.869753e-05', 'AE': '6.512471e-06', 'time_nn': 96.99085426330566}\r\n"
     ]
    }
   ],
   "source": [
    "# DNNs\n",
    "T = np.linspace(tmin, tmax, 5000).reshape(-1, 1)\n",
    "nn_sol = DNNs(params, T)\n",
    "rr_sol = u(T)\n",
    "\n",
    "nn_error = nn_sol - rr_sol\n",
    "abs_error_nn_rr = np.abs(nn_error)\n",
    "rel_error_nn_rr = np.linalg.norm(nn_error, ord=2) / np.linalg.norm(rr_sol, ord=2)\n",
    "mae_nn_rr = np.mean(abs_error_nn_rr)\n",
    "\n",
    "\n",
    "# record the result\n",
    "result = {\n",
    "    \"netLayers\": netLayers,\n",
    "    \"q\": q,\n",
    "    \"N_f\": N_f,\n",
    "    # \"activation_function\": config[\"activation_function\"],\n",
    "    # \"loss\": loss,\n",
    "    \"RE\": \"{:.6e}\".format(rel_error_nn_rr),\n",
    "    \"AE\": \"{:.6e}\".format(mae_nn_rr),\n",
    "    \"time_nn\": time_nn\n",
    "}\n",
    "print(result)\n",
    "results.append(result)"
   ]
  },
  {
   "cell_type": "markdown",
   "id": "8f54a686-7a6f-463b-b7d3-3f2bc470dbe6",
   "metadata": {},
   "source": [
    "# Visualization of numerical solutions"
   ]
  },
  {
   "cell_type": "code",
   "execution_count": 11,
   "id": "43357ff9-fdfe-4e85-8c7f-9fad10bec2e1",
   "metadata": {
    "execution": {
     "iopub.execute_input": "2025-08-04T07:46:15.726698Z",
     "iopub.status.busy": "2025-08-04T07:46:15.726317Z",
     "iopub.status.idle": "2025-08-04T07:46:16.551454Z",
     "shell.execute_reply": "2025-08-04T07:46:16.550813Z",
     "shell.execute_reply.started": "2025-08-04T07:46:15.726675Z"
    },
    "scrolled": true,
    "tags": []
   },
   "outputs": [
    {
     "data": {
      "image/png": "[encoded data removed]",
      "text/plain": [
       "<Figure size 629.921x472.441 with 1 Axes>"
      ]
     },
     "metadata": {},
     "output_type": "display_data"
    }
   ],
   "source": [
    "#Uniform image size\n",
    "figsize = (16 / 2.54, 12 / 2.54)\n",
    "\n",
    "fig = plt.figure(figsize=figsize)\n",
    "plt.plot(T, rr_sol, '-r', label='Analytical Solution: $y(t)$')\n",
    "plt.plot(T, nn_sol, '--k', label='PINN-PDDE Solution: $\\hat{y}(t)$')\n",
    "plt.xlabel('$t$', fontproperties=prop)\n",
    "plt.ylabel('$y$', rotation=0, labelpad=15, fontproperties=prop)\n",
    "for label in plt.gca().get_xticklabels() + plt.gca().get_yticklabels():\n",
    "    label.set_fontproperties(prop)\n",
    "plt.legend(prop=prop, loc='best')                \n",
    "plt.grid(True, which='major', axis='both', linestyle='--', linewidth=0.5)\n",
    "plot_path = os.path.join(picture_path, 'nn_solution.png')\n",
    "plt.savefig(plot_path, dpi=600, bbox_inches='tight')\n",
    "plt.show()\n",
    "plt.close(fig)"
   ]
  },
  {
   "cell_type": "markdown",
   "id": "fa6dde93-e060-4423-b8e7-e50a7c7729d8",
   "metadata": {},
   "source": [
    "# Visualization of numerical solution errors"
   ]
  },
  {
   "cell_type": "code",
   "execution_count": 12,
   "id": "58d87868-c569-4dd3-b126-4b4e474fadf8",
   "metadata": {
    "execution": {
     "iopub.execute_input": "2025-08-04T07:46:21.058019Z",
     "iopub.status.busy": "2025-08-04T07:46:21.057640Z",
     "iopub.status.idle": "2025-08-04T07:46:21.943058Z",
     "shell.execute_reply": "2025-08-04T07:46:21.942414Z",
     "shell.execute_reply.started": "2025-08-04T07:46:21.057994Z"
    },
    "scrolled": true,
    "tags": []
   },
   "outputs": [
    {
     "data": {
      "image/png": "[encoded data removed]",
      "text/plain": [
       "<Figure size 629.921x472.441 with 1 Axes>"
      ]
     },
     "metadata": {},
     "output_type": "display_data"
    }
   ],
   "source": [
    "formatter = ticker.ScalarFormatter(useMathText=True)\n",
    "formatter.set_scientific(True)\n",
    "formatter.set_powerlimits((-2, 2))\n",
    "\n",
    "fig = plt.figure(figsize=figsize)\n",
    "plt.plot(T, abs_error_nn_rr, '--k', label='PINN-PDDE Error: $\\hat{y}(t)$')\n",
    "plt.xlabel('$t$', fontproperties=prop)\n",
    "plt.ylabel('$Error$', rotation=0, labelpad=15, fontproperties=prop)\n",
    "for label in plt.gca().get_xticklabels() + plt.gca().get_yticklabels():\n",
    "    label.set_fontproperties(prop)\n",
    "plt.legend(prop=prop, loc='best')         \n",
    "plt.gca().yaxis.set_major_formatter(formatter)\n",
    "plt.grid(True, which='major', axis='both', linestyle='--', linewidth=0.5)\n",
    "plot_path = os.path.join(picture_path, 'error_2d.png')\n",
    "plt.savefig(plot_path, dpi=600, bbox_inches='tight')\n",
    "plt.show()\n",
    "plt.close(fig)\n"
   ]
  },
  {
   "cell_type": "markdown",
   "id": "5bd09c0b-3b33-4ff4-948b-4bd78cbb9e3c",
   "metadata": {},
   "source": [
    "# Visualization of loss value changes"
   ]
  },
  {
   "cell_type": "code",
   "execution_count": 13,
   "id": "c7cb6043-7aa7-47d0-9edf-54ad1b0cf199",
   "metadata": {
    "execution": {
     "iopub.execute_input": "2025-08-04T07:46:24.727620Z",
     "iopub.status.busy": "2025-08-04T07:46:24.727247Z",
     "iopub.status.idle": "2025-08-04T07:46:25.716896Z",
     "shell.execute_reply": "2025-08-04T07:46:25.716256Z",
     "shell.execute_reply.started": "2025-08-04T07:46:24.727597Z"
    },
    "scrolled": true
   },
   "outputs": [
    {
     "data": {
      "image/png": "[encoded data removed]",
      "text/plain": [
       "<Figure size 629.921x472.441 with 1 Axes>"
      ]
     },
     "metadata": {},
     "output_type": "display_data"
    }
   ],
   "source": [
    "adam_arr, col_names = process_log.format_adam_log(hist1_epoch, hist1_loss)\n",
    "bfgs_arr, col_names = process_log.extract_bfgs_info(log_path, step_epochs[0], 10)\n",
    "all_arr = np.vstack([adam_arr, bfgs_arr])\n",
    "\n",
    "epoch_history = all_arr[:, 0]\n",
    "loss_history = all_arr[:, 1]\n",
    "\n",
    "# Loss\n",
    "fig = plt.figure(figsize=figsize)\n",
    "plt.plot(epoch_history, loss_history, 'k', label='Loss')\n",
    "plt.yscale('log')\n",
    "plt.xlabel('$Epoch$', fontproperties=prop)\n",
    "plt.ylabel('$Loss$', rotation=0, labelpad=15, fontproperties=prop)\n",
    "for label in plt.gca().get_xticklabels() + plt.gca().get_yticklabels():\n",
    "    label.set_fontproperties(prop)\n",
    "plt.legend(prop=prop, loc='best')                \n",
    "plt.grid(True, which='major', axis='both', linestyle='--', linewidth=0.5)\n",
    "plot_path = os.path.join(picture_path, 'loss_history.png')\n",
    "plt.savefig(plot_path, dpi=600, bbox_inches='tight')\n",
    "plt.show()\n",
    "plt.close(fig)"
   ]
  },
  {
   "cell_type": "code",
   "execution_count": null,
   "id": "6a513bde-b991-47c1-80b4-7ba858bbd789",
   "metadata": {
    "scrolled": true
   },
   "outputs": [],
   "source": []
  }
 ],
 "metadata": {
  "kernelspec": {
   "display_name": "Python 3",
   "language": "python",
   "name": "py35-paddle1.2.0"
  },
  "language_info": {
   "codemirror_mode": {
    "name": "ipython",
    "version": 3
   },
   "file_extension": ".py",
   "mimetype": "text/x-python",
   "name": "python",
   "nbconvert_exporter": "python",
   "pygments_lexer": "ipython3",
   "version": "3.10.10"
  }
 },
 "nbformat": 4,
 "nbformat_minor": 5
}
